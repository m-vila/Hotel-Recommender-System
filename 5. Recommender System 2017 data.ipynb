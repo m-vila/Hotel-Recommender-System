{
 "cells": [
  {
   "cell_type": "code",
   "execution_count": 1,
   "metadata": {},
   "outputs": [],
   "source": [
    "# Importing the Python libraries\n",
    "import pandas as pd\n",
    "import numpy as np\n",
    "import seaborn as sns\n",
    "import statsmodels.api as sm\n",
    "import matplotlib.pyplot as plt\n",
    "import os\n",
    "import sys\n",
    "from scipy.stats import iqr\n",
    "from scipy.stats import skew\n",
    "from scipy.stats import norm, kurtosis, stats\n",
    "import random\n",
    "from random import sample\n",
    "from sklearn.neighbors import NearestNeighbors"
   ]
  },
  {
   "cell_type": "markdown",
   "metadata": {},
   "source": [
    "### Obtaining and Viewing the Data "
   ]
  },
  {
   "cell_type": "code",
   "execution_count": 2,
   "metadata": {},
   "outputs": [
    {
     "name": "stdout",
     "output_type": "stream",
     "text": [
      "Hotels data shape:  (515212, 19)\n"
     ]
    }
   ],
   "source": [
    "#Loading Data\n",
    "#Read the .csv file into a DataFrame\n",
    "raw_data = pd.read_csv('clean.csv')\n",
    "\n",
    "print('Hotels data shape: ', raw_data.shape)"
   ]
  },
  {
   "cell_type": "code",
   "execution_count": 3,
   "metadata": {},
   "outputs": [
    {
     "data": {
      "text/plain": [
       "Index(['additional_number_of_scoring', 'review_date', 'average_score',\n",
       "       'review_total_negative_word_counts', 'total_number_of_reviews',\n",
       "       'review_total_positive_word_counts',\n",
       "       'total_number_of_reviews_reviewer_has_given', 'reviewer_score', 'tags',\n",
       "       'lat', 'lng', 'days_since_review', 'reviewer_nationality', 'hotel_name',\n",
       "       'hotel_address', 'location', 'positive_review', 'negative_review',\n",
       "       'tags2'],\n",
       "      dtype='object')"
      ]
     },
     "execution_count": 3,
     "metadata": {},
     "output_type": "execute_result"
    }
   ],
   "source": [
    "raw_data.columns"
   ]
  },
  {
   "cell_type": "code",
   "execution_count": 4,
   "metadata": {},
   "outputs": [
    {
     "data": {
      "text/html": [
       "<div>\n",
       "<style scoped>\n",
       "    .dataframe tbody tr th:only-of-type {\n",
       "        vertical-align: middle;\n",
       "    }\n",
       "\n",
       "    .dataframe tbody tr th {\n",
       "        vertical-align: top;\n",
       "    }\n",
       "\n",
       "    .dataframe thead th {\n",
       "        text-align: right;\n",
       "    }\n",
       "</style>\n",
       "<table border=\"1\" class=\"dataframe\">\n",
       "  <thead>\n",
       "    <tr style=\"text-align: right;\">\n",
       "      <th></th>\n",
       "      <th>hotel_name</th>\n",
       "      <th>average_score</th>\n",
       "      <th>reviewer_score</th>\n",
       "    </tr>\n",
       "  </thead>\n",
       "  <tbody>\n",
       "    <tr>\n",
       "      <td>0</td>\n",
       "      <td>hotel arena</td>\n",
       "      <td>7.7</td>\n",
       "      <td>2.9</td>\n",
       "    </tr>\n",
       "    <tr>\n",
       "      <td>1</td>\n",
       "      <td>hotel arena</td>\n",
       "      <td>7.7</td>\n",
       "      <td>7.5</td>\n",
       "    </tr>\n",
       "    <tr>\n",
       "      <td>2</td>\n",
       "      <td>hotel arena</td>\n",
       "      <td>7.7</td>\n",
       "      <td>7.1</td>\n",
       "    </tr>\n",
       "    <tr>\n",
       "      <td>3</td>\n",
       "      <td>hotel arena</td>\n",
       "      <td>7.7</td>\n",
       "      <td>3.8</td>\n",
       "    </tr>\n",
       "    <tr>\n",
       "      <td>4</td>\n",
       "      <td>hotel arena</td>\n",
       "      <td>7.7</td>\n",
       "      <td>6.7</td>\n",
       "    </tr>\n",
       "  </tbody>\n",
       "</table>\n",
       "</div>"
      ],
      "text/plain": [
       "    hotel_name  average_score  reviewer_score\n",
       "0  hotel arena            7.7             2.9\n",
       "1  hotel arena            7.7             7.5\n",
       "2  hotel arena            7.7             7.1\n",
       "3  hotel arena            7.7             3.8\n",
       "4  hotel arena            7.7             6.7"
      ]
     },
     "execution_count": 4,
     "metadata": {},
     "output_type": "execute_result"
    }
   ],
   "source": [
    "#Selecting only the relevant columns\n",
    "data = raw_data[['hotel_name','average_score','reviewer_score']]\n",
    "data.head()"
   ]
  },
  {
   "cell_type": "code",
   "execution_count": 5,
   "metadata": {},
   "outputs": [
    {
     "name": "stderr",
     "output_type": "stream",
     "text": [
      "/Users/martavila/opt/anaconda3/lib/python3.7/site-packages/ipykernel_launcher.py:2: SettingWithCopyWarning: \n",
      "A value is trying to be set on a copy of a slice from a DataFrame.\n",
      "Try using .loc[row_indexer,col_indexer] = value instead\n",
      "\n",
      "See the caveats in the documentation: http://pandas.pydata.org/pandas-docs/stable/user_guide/indexing.html#returning-a-view-versus-a-copy\n",
      "  \n"
     ]
    }
   ],
   "source": [
    "#Grouping hotels and assigning them an id\n",
    "data['id_hotel'] = data.groupby(['hotel_name']).ngroup()"
   ]
  },
  {
   "cell_type": "code",
   "execution_count": 6,
   "metadata": {},
   "outputs": [
    {
     "data": {
      "text/html": [
       "<div>\n",
       "<style scoped>\n",
       "    .dataframe tbody tr th:only-of-type {\n",
       "        vertical-align: middle;\n",
       "    }\n",
       "\n",
       "    .dataframe tbody tr th {\n",
       "        vertical-align: top;\n",
       "    }\n",
       "\n",
       "    .dataframe thead th {\n",
       "        text-align: right;\n",
       "    }\n",
       "</style>\n",
       "<table border=\"1\" class=\"dataframe\">\n",
       "  <thead>\n",
       "    <tr style=\"text-align: right;\">\n",
       "      <th></th>\n",
       "      <th>hotel_name</th>\n",
       "      <th>average_score</th>\n",
       "      <th>reviewer_score</th>\n",
       "      <th>id_hotel</th>\n",
       "    </tr>\n",
       "  </thead>\n",
       "  <tbody>\n",
       "    <tr>\n",
       "      <td>0</td>\n",
       "      <td>hotel arena</td>\n",
       "      <td>7.7</td>\n",
       "      <td>2.9</td>\n",
       "      <td>610</td>\n",
       "    </tr>\n",
       "    <tr>\n",
       "      <td>1</td>\n",
       "      <td>hotel arena</td>\n",
       "      <td>7.7</td>\n",
       "      <td>7.5</td>\n",
       "      <td>610</td>\n",
       "    </tr>\n",
       "    <tr>\n",
       "      <td>2</td>\n",
       "      <td>hotel arena</td>\n",
       "      <td>7.7</td>\n",
       "      <td>7.1</td>\n",
       "      <td>610</td>\n",
       "    </tr>\n",
       "    <tr>\n",
       "      <td>3</td>\n",
       "      <td>hotel arena</td>\n",
       "      <td>7.7</td>\n",
       "      <td>3.8</td>\n",
       "      <td>610</td>\n",
       "    </tr>\n",
       "    <tr>\n",
       "      <td>4</td>\n",
       "      <td>hotel arena</td>\n",
       "      <td>7.7</td>\n",
       "      <td>6.7</td>\n",
       "      <td>610</td>\n",
       "    </tr>\n",
       "  </tbody>\n",
       "</table>\n",
       "</div>"
      ],
      "text/plain": [
       "    hotel_name  average_score  reviewer_score  id_hotel\n",
       "0  hotel arena            7.7             2.9       610\n",
       "1  hotel arena            7.7             7.5       610\n",
       "2  hotel arena            7.7             7.1       610\n",
       "3  hotel arena            7.7             3.8       610\n",
       "4  hotel arena            7.7             6.7       610"
      ]
     },
     "execution_count": 6,
     "metadata": {},
     "output_type": "execute_result"
    }
   ],
   "source": [
    "data.head()"
   ]
  },
  {
   "cell_type": "code",
   "execution_count": 7,
   "metadata": {},
   "outputs": [
    {
     "data": {
      "text/plain": [
       "britannia international hotel canary wharf     4789\n",
       "strand palace hotel                            4256\n",
       "park plaza westminster bridge london           4169\n",
       "copthorne tara hotel london kensington         3577\n",
       "doubletree hilton hotel london tower london    3212\n",
       "                                               ... \n",
       "hotel daniel paris                               12\n",
       "boundary rooms suites                            12\n",
       "hotel wagner                                     10\n",
       "mercure paris porte orleans                      10\n",
       "hotel gallitzinberg                               8\n",
       "Name: hotel_name, Length: 1492, dtype: int64"
      ]
     },
     "execution_count": 7,
     "metadata": {},
     "output_type": "execute_result"
    }
   ],
   "source": [
    "#Double checking that it worked\n",
    "data.hotel_name.value_counts()"
   ]
  },
  {
   "cell_type": "code",
   "execution_count": 8,
   "metadata": {},
   "outputs": [],
   "source": [
    "#Function that will limit the reviews to 600 per hotel and randomly delete the extra ones\n",
    "def random_selection(data):\n",
    "    if len(data['id_hotel']) > 600:\n",
    "        data = data.sample(n=600, random_state = 600)\n",
    "    else:\n",
    "        data = data\n",
    "    \n",
    "    data.reset_index(drop=True, inplace=True)\n",
    "    return data"
   ]
  },
  {
   "cell_type": "code",
   "execution_count": 9,
   "metadata": {},
   "outputs": [],
   "source": [
    "#Applying the function to our dataset\n",
    "np.random.seed(25)\n",
    "df_final = data.groupby('hotel_name').apply(lambda x: random_selection(x))"
   ]
  },
  {
   "cell_type": "code",
   "execution_count": 10,
   "metadata": {
    "scrolled": true
   },
   "outputs": [
    {
     "data": {
      "text/plain": [
       "thistle kensington gardens              600\n",
       "radisson blu edwardian kenilworth       600\n",
       "montcalm shoreditch london tech city    600\n",
       "catalonia barcelona plaza               600\n",
       "st george hotel wembley                 600\n",
       "                                       ... \n",
       "ibis styles milano palmanova             12\n",
       "le lavoisier                             12\n",
       "hotel wagner                             10\n",
       "mercure paris porte orleans              10\n",
       "hotel gallitzinberg                       8\n",
       "Name: hotel_name, Length: 1492, dtype: int64"
      ]
     },
     "execution_count": 10,
     "metadata": {},
     "output_type": "execute_result"
    }
   ],
   "source": [
    "#Double checking that it worked\n",
    "df_final.hotel_name.value_counts()"
   ]
  },
  {
   "cell_type": "code",
   "execution_count": 11,
   "metadata": {},
   "outputs": [],
   "source": [
    "#Establishing a new index\n",
    "df_final.reset_index(drop=True, inplace=True)"
   ]
  },
  {
   "cell_type": "code",
   "execution_count": 12,
   "metadata": {},
   "outputs": [],
   "source": [
    "#Defining a function to generate random ids to our reviewers\n",
    "def gen_random_idReviewers(df_final):\n",
    "    range_numbers = list(range(600))\n",
    "    random_range = random.sample(range_numbers, len(range_numbers))\n",
    "    random_range = random_range[0:len(df_final.hotel_name)]\n",
    "    df_final['id_reviewer'] = random_range\n",
    "    return df_final  "
   ]
  },
  {
   "cell_type": "code",
   "execution_count": 13,
   "metadata": {},
   "outputs": [],
   "source": [
    "#Applying the function to our dataset\n",
    "np.random.seed(25)\n",
    "df = df_final.groupby('hotel_name').apply(lambda x: gen_random_idReviewers(x))"
   ]
  },
  {
   "cell_type": "code",
   "execution_count": 14,
   "metadata": {},
   "outputs": [
    {
     "data": {
      "text/html": [
       "<div>\n",
       "<style scoped>\n",
       "    .dataframe tbody tr th:only-of-type {\n",
       "        vertical-align: middle;\n",
       "    }\n",
       "\n",
       "    .dataframe tbody tr th {\n",
       "        vertical-align: top;\n",
       "    }\n",
       "\n",
       "    .dataframe thead th {\n",
       "        text-align: right;\n",
       "    }\n",
       "</style>\n",
       "<table border=\"1\" class=\"dataframe\">\n",
       "  <thead>\n",
       "    <tr style=\"text-align: right;\">\n",
       "      <th></th>\n",
       "      <th>hotel_name</th>\n",
       "      <th>average_score</th>\n",
       "      <th>reviewer_score</th>\n",
       "      <th>id_hotel</th>\n",
       "      <th>id_reviewer</th>\n",
       "    </tr>\n",
       "  </thead>\n",
       "  <tbody>\n",
       "    <tr>\n",
       "      <td>0</td>\n",
       "      <td>11 cadogan gardens</td>\n",
       "      <td>8.7</td>\n",
       "      <td>9.6</td>\n",
       "      <td>0</td>\n",
       "      <td>552</td>\n",
       "    </tr>\n",
       "    <tr>\n",
       "      <td>1</td>\n",
       "      <td>11 cadogan gardens</td>\n",
       "      <td>8.7</td>\n",
       "      <td>8.8</td>\n",
       "      <td>0</td>\n",
       "      <td>85</td>\n",
       "    </tr>\n",
       "    <tr>\n",
       "      <td>2</td>\n",
       "      <td>11 cadogan gardens</td>\n",
       "      <td>8.7</td>\n",
       "      <td>9.2</td>\n",
       "      <td>0</td>\n",
       "      <td>21</td>\n",
       "    </tr>\n",
       "    <tr>\n",
       "      <td>3</td>\n",
       "      <td>11 cadogan gardens</td>\n",
       "      <td>8.7</td>\n",
       "      <td>9.6</td>\n",
       "      <td>0</td>\n",
       "      <td>40</td>\n",
       "    </tr>\n",
       "    <tr>\n",
       "      <td>4</td>\n",
       "      <td>11 cadogan gardens</td>\n",
       "      <td>8.7</td>\n",
       "      <td>7.9</td>\n",
       "      <td>0</td>\n",
       "      <td>337</td>\n",
       "    </tr>\n",
       "    <tr>\n",
       "      <td>5</td>\n",
       "      <td>11 cadogan gardens</td>\n",
       "      <td>8.7</td>\n",
       "      <td>10.0</td>\n",
       "      <td>0</td>\n",
       "      <td>102</td>\n",
       "    </tr>\n",
       "    <tr>\n",
       "      <td>6</td>\n",
       "      <td>11 cadogan gardens</td>\n",
       "      <td>8.7</td>\n",
       "      <td>10.0</td>\n",
       "      <td>0</td>\n",
       "      <td>105</td>\n",
       "    </tr>\n",
       "    <tr>\n",
       "      <td>7</td>\n",
       "      <td>11 cadogan gardens</td>\n",
       "      <td>8.7</td>\n",
       "      <td>7.5</td>\n",
       "      <td>0</td>\n",
       "      <td>596</td>\n",
       "    </tr>\n",
       "    <tr>\n",
       "      <td>8</td>\n",
       "      <td>11 cadogan gardens</td>\n",
       "      <td>8.7</td>\n",
       "      <td>9.2</td>\n",
       "      <td>0</td>\n",
       "      <td>34</td>\n",
       "    </tr>\n",
       "    <tr>\n",
       "      <td>9</td>\n",
       "      <td>11 cadogan gardens</td>\n",
       "      <td>8.7</td>\n",
       "      <td>10.0</td>\n",
       "      <td>0</td>\n",
       "      <td>120</td>\n",
       "    </tr>\n",
       "  </tbody>\n",
       "</table>\n",
       "</div>"
      ],
      "text/plain": [
       "           hotel_name  average_score  reviewer_score  id_hotel  id_reviewer\n",
       "0  11 cadogan gardens            8.7             9.6         0          552\n",
       "1  11 cadogan gardens            8.7             8.8         0           85\n",
       "2  11 cadogan gardens            8.7             9.2         0           21\n",
       "3  11 cadogan gardens            8.7             9.6         0           40\n",
       "4  11 cadogan gardens            8.7             7.9         0          337\n",
       "5  11 cadogan gardens            8.7            10.0         0          102\n",
       "6  11 cadogan gardens            8.7            10.0         0          105\n",
       "7  11 cadogan gardens            8.7             7.5         0          596\n",
       "8  11 cadogan gardens            8.7             9.2         0           34\n",
       "9  11 cadogan gardens            8.7            10.0         0          120"
      ]
     },
     "execution_count": 14,
     "metadata": {},
     "output_type": "execute_result"
    }
   ],
   "source": [
    "#Double checking that it worked\n",
    "df.head(10)"
   ]
  },
  {
   "cell_type": "markdown",
   "metadata": {},
   "source": [
    "## Building a Collaborative Filtering Recommender System\n",
    "\n",
    "- Based on the assumption that similar reviewers like similar things\n",
    "- \"Customers who visited this hotel also will like this one...\""
   ]
  },
  {
   "cell_type": "markdown",
   "metadata": {},
   "source": [
    "### Exploratory Data Analysis"
   ]
  },
  {
   "cell_type": "code",
   "execution_count": 15,
   "metadata": {},
   "outputs": [],
   "source": [
    "n_ratings = len(df)\n",
    "n_hotels = df['id_hotel'].nunique() #counting how many hotels\n",
    "n_reviewer = df['id_reviewer'].nunique() #counting how many reviewers"
   ]
  },
  {
   "cell_type": "code",
   "execution_count": 16,
   "metadata": {},
   "outputs": [
    {
     "name": "stdout",
     "output_type": "stream",
     "text": [
      "Number of ratings: 389861\n",
      "Number of unique hotels: 1492\n",
      "Number of unique reviewers: 600\n",
      "Average number of ratings per reviewer: 649.77\n",
      "Average number of ratings per hotel: 261.3\n"
     ]
    }
   ],
   "source": [
    "print(f\"Number of ratings: {n_ratings}\")\n",
    "print(f\"Number of unique hotels: {n_hotels}\")\n",
    "print(f\"Number of unique reviewers: {n_reviewer}\")\n",
    "print(f\"Average number of ratings per reviewer: {round(n_ratings/n_reviewer, 2)}\")\n",
    "print(f\"Average number of ratings per hotel: {round(n_ratings/n_hotels, 2)}\")"
   ]
  },
  {
   "cell_type": "code",
   "execution_count": 17,
   "metadata": {},
   "outputs": [
    {
     "data": {
      "text/html": [
       "<div>\n",
       "<style scoped>\n",
       "    .dataframe tbody tr th:only-of-type {\n",
       "        vertical-align: middle;\n",
       "    }\n",
       "\n",
       "    .dataframe tbody tr th {\n",
       "        vertical-align: top;\n",
       "    }\n",
       "\n",
       "    .dataframe thead th {\n",
       "        text-align: right;\n",
       "    }\n",
       "</style>\n",
       "<table border=\"1\" class=\"dataframe\">\n",
       "  <thead>\n",
       "    <tr style=\"text-align: right;\">\n",
       "      <th></th>\n",
       "      <th>id_reviewer</th>\n",
       "      <th>n_ratings</th>\n",
       "    </tr>\n",
       "  </thead>\n",
       "  <tbody>\n",
       "    <tr>\n",
       "      <td>0</td>\n",
       "      <td>0</td>\n",
       "      <td>645</td>\n",
       "    </tr>\n",
       "    <tr>\n",
       "      <td>1</td>\n",
       "      <td>1</td>\n",
       "      <td>654</td>\n",
       "    </tr>\n",
       "    <tr>\n",
       "      <td>2</td>\n",
       "      <td>2</td>\n",
       "      <td>641</td>\n",
       "    </tr>\n",
       "    <tr>\n",
       "      <td>3</td>\n",
       "      <td>3</td>\n",
       "      <td>647</td>\n",
       "    </tr>\n",
       "    <tr>\n",
       "      <td>4</td>\n",
       "      <td>4</td>\n",
       "      <td>651</td>\n",
       "    </tr>\n",
       "  </tbody>\n",
       "</table>\n",
       "</div>"
      ],
      "text/plain": [
       "   id_reviewer  n_ratings\n",
       "0            0        645\n",
       "1            1        654\n",
       "2            2        641\n",
       "3            3        647\n",
       "4            4        651"
      ]
     },
     "execution_count": 17,
     "metadata": {},
     "output_type": "execute_result"
    }
   ],
   "source": [
    "user_freq = df[['id_reviewer', 'id_hotel']].groupby('id_reviewer').count().reset_index()\n",
    "user_freq.columns = ['id_reviewer', 'n_ratings']\n",
    "user_freq.head()"
   ]
  },
  {
   "cell_type": "code",
   "execution_count": 18,
   "metadata": {},
   "outputs": [
    {
     "name": "stdout",
     "output_type": "stream",
     "text": [
      "Mean number of ratings for a given reviewer: 649.77.\n"
     ]
    }
   ],
   "source": [
    "mean_n_ratings = user_freq['n_ratings'].mean()\n",
    "print(f\"Mean number of ratings for a given reviewer: {mean_n_ratings:.2f}.\")\n",
    "      "
   ]
  },
  {
   "cell_type": "code",
   "execution_count": 19,
   "metadata": {},
   "outputs": [
    {
     "data": {
      "image/png": "[encoded data removed]",
      "text/plain": [
       "<Figure size 1008x216 with 2 Axes>"
      ]
     },
     "metadata": {},
     "output_type": "display_data"
    }
   ],
   "source": [
    "sns.set_style(\"whitegrid\")\n",
    "plt.figure(figsize=(14,3))\n",
    "\n",
    "# PLOT 1\n",
    "plt.subplot(1,2,1)\n",
    "ax = sns.countplot(x=\"reviewer_score\", data=df, palette=\"viridis\")\n",
    "ax.set(title=\"Distribution of hotel ratings\")\n",
    "\n",
    "# PLOT 2\n",
    "plt.subplot(1,2,2)\n",
    "ax = sns.kdeplot(user_freq['n_ratings'], shade=True, legend=False)\n",
    "ax.set(title=\"Number of hotels rated per reviewer\", xlabel=\"# ratings per reviewer\", ylabel=\"density\")\n",
    "plt.axvline(user_freq['n_ratings'].mean(), color=\"k\", linestyle=\"--\")\n",
    "plt.show()"
   ]
  },
  {
   "cell_type": "markdown",
   "metadata": {},
   "source": [
    "### Bayesian Average\n",
    "\n",
    "- A weighted average that accounts for how many ratings there are \n",
    "- Useful when there isn't much data available\n",
    "- Used extensively in baseball statistics (i.e., batting average)\n",
    "- Calculate with the following equation:\n",
    "\n",
    "$$r_{i} = \\frac{C \\times m + \\Sigma{\\text{ratings}}}{C+N} $$\n",
    "\n",
    "<p style=\"margin-bottom:0;\">where:</p> \n",
    "\n",
    "- $C$ = our confidence (average number of ratings for a given hotel)\n",
    "- $m$ = our prior (global average rating)\n",
    "- $N$ = total number of ratings for hotel $i$"
   ]
  },
  {
   "cell_type": "code",
   "execution_count": 20,
   "metadata": {},
   "outputs": [
    {
     "data": {
      "text/plain": [
       "Index(['hotel_name', 'average_score', 'reviewer_score', 'id_hotel',\n",
       "       'id_reviewer'],\n",
       "      dtype='object')"
      ]
     },
     "execution_count": 20,
     "metadata": {},
     "output_type": "execute_result"
    }
   ],
   "source": [
    "df.columns"
   ]
  },
  {
   "cell_type": "code",
   "execution_count": 21,
   "metadata": {},
   "outputs": [
    {
     "data": {
      "text/html": [
       "<div>\n",
       "<style scoped>\n",
       "    .dataframe tbody tr th:only-of-type {\n",
       "        vertical-align: middle;\n",
       "    }\n",
       "\n",
       "    .dataframe tbody tr th {\n",
       "        vertical-align: top;\n",
       "    }\n",
       "\n",
       "    .dataframe thead th {\n",
       "        text-align: right;\n",
       "    }\n",
       "</style>\n",
       "<table border=\"1\" class=\"dataframe\">\n",
       "  <thead>\n",
       "    <tr style=\"text-align: right;\">\n",
       "      <th></th>\n",
       "      <th>count</th>\n",
       "      <th>mean</th>\n",
       "    </tr>\n",
       "    <tr>\n",
       "      <th>id_hotel</th>\n",
       "      <th></th>\n",
       "      <th></th>\n",
       "    </tr>\n",
       "  </thead>\n",
       "  <tbody>\n",
       "    <tr>\n",
       "      <td>0</td>\n",
       "      <td>159</td>\n",
       "      <td>8.845283</td>\n",
       "    </tr>\n",
       "    <tr>\n",
       "      <td>1</td>\n",
       "      <td>148</td>\n",
       "      <td>7.861486</td>\n",
       "    </tr>\n",
       "    <tr>\n",
       "      <td>2</td>\n",
       "      <td>600</td>\n",
       "      <td>8.974667</td>\n",
       "    </tr>\n",
       "    <tr>\n",
       "      <td>3</td>\n",
       "      <td>103</td>\n",
       "      <td>9.711650</td>\n",
       "    </tr>\n",
       "    <tr>\n",
       "      <td>4</td>\n",
       "      <td>28</td>\n",
       "      <td>9.603571</td>\n",
       "    </tr>\n",
       "  </tbody>\n",
       "</table>\n",
       "</div>"
      ],
      "text/plain": [
       "          count      mean\n",
       "id_hotel                 \n",
       "0           159  8.845283\n",
       "1           148  7.861486\n",
       "2           600  8.974667\n",
       "3           103  9.711650\n",
       "4            28  9.603571"
      ]
     },
     "execution_count": 21,
     "metadata": {},
     "output_type": "execute_result"
    }
   ],
   "source": [
    "hotel_stats = df.groupby('id_hotel')[['reviewer_score']].agg(['count', 'mean'])\n",
    "hotel_stats.columns = hotel_stats.columns.droplevel()\n",
    "hotel_stats.head()"
   ]
  },
  {
   "cell_type": "code",
   "execution_count": 22,
   "metadata": {},
   "outputs": [],
   "source": [
    "C = hotel_stats['count'].mean()\n",
    "m = hotel_stats['mean'].mean()\n",
    "\n",
    "def bayesian_avg(df_i):\n",
    "    bayesian_avg = (C*m+df_i.sum())/(C+df_i.count())\n",
    "    return bayesian_avg"
   ]
  },
  {
   "cell_type": "code",
   "execution_count": 23,
   "metadata": {},
   "outputs": [
    {
     "data": {
      "text/html": [
       "<div>\n",
       "<style scoped>\n",
       "    .dataframe tbody tr th:only-of-type {\n",
       "        vertical-align: middle;\n",
       "    }\n",
       "\n",
       "    .dataframe tbody tr th {\n",
       "        vertical-align: top;\n",
       "    }\n",
       "\n",
       "    .dataframe thead th {\n",
       "        text-align: right;\n",
       "    }\n",
       "</style>\n",
       "<table border=\"1\" class=\"dataframe\">\n",
       "  <thead>\n",
       "    <tr style=\"text-align: right;\">\n",
       "      <th></th>\n",
       "      <th>id_hotel</th>\n",
       "      <th>bayesian_avg</th>\n",
       "    </tr>\n",
       "  </thead>\n",
       "  <tbody>\n",
       "    <tr>\n",
       "      <td>0</td>\n",
       "      <td>0</td>\n",
       "      <td>8.610893</td>\n",
       "    </tr>\n",
       "    <tr>\n",
       "      <td>1</td>\n",
       "      <td>1</td>\n",
       "      <td>8.248860</td>\n",
       "    </tr>\n",
       "    <tr>\n",
       "      <td>2</td>\n",
       "      <td>2</td>\n",
       "      <td>8.821036</td>\n",
       "    </tr>\n",
       "    <tr>\n",
       "      <td>3</td>\n",
       "      <td>3</td>\n",
       "      <td>8.819813</td>\n",
       "    </tr>\n",
       "    <tr>\n",
       "      <td>4</td>\n",
       "      <td>4</td>\n",
       "      <td>8.578148</td>\n",
       "    </tr>\n",
       "  </tbody>\n",
       "</table>\n",
       "</div>"
      ],
      "text/plain": [
       "   id_hotel  bayesian_avg\n",
       "0         0      8.610893\n",
       "1         1      8.248860\n",
       "2         2      8.821036\n",
       "3         3      8.819813\n",
       "4         4      8.578148"
      ]
     },
     "execution_count": 23,
     "metadata": {},
     "output_type": "execute_result"
    }
   ],
   "source": [
    "bayesian_avg_ratings = df.groupby('id_hotel')['reviewer_score'].agg(bayesian_avg).reset_index()\n",
    "bayesian_avg_ratings.columns = ['id_hotel', 'bayesian_avg']\n",
    "bayesian_avg_ratings.head()"
   ]
  },
  {
   "cell_type": "markdown",
   "metadata": {},
   "source": [
    "### Which hotels have the highest Bayesian average rating? "
   ]
  },
  {
   "cell_type": "code",
   "execution_count": 24,
   "metadata": {},
   "outputs": [],
   "source": [
    "hotel_stats = hotel_stats.merge(bayesian_avg_ratings, on='id_hotel')\n",
    "hotel_stats = hotel_stats.merge(df[['id_hotel', 'hotel_name']])"
   ]
  },
  {
   "cell_type": "code",
   "execution_count": 25,
   "metadata": {},
   "outputs": [],
   "source": [
    "hotel_stats = hotel_stats.drop_duplicates()"
   ]
  },
  {
   "cell_type": "code",
   "execution_count": 26,
   "metadata": {},
   "outputs": [
    {
     "data": {
      "text/html": [
       "<div>\n",
       "<style scoped>\n",
       "    .dataframe tbody tr th:only-of-type {\n",
       "        vertical-align: middle;\n",
       "    }\n",
       "\n",
       "    .dataframe tbody tr th {\n",
       "        vertical-align: top;\n",
       "    }\n",
       "\n",
       "    .dataframe thead th {\n",
       "        text-align: right;\n",
       "    }\n",
       "</style>\n",
       "<table border=\"1\" class=\"dataframe\">\n",
       "  <thead>\n",
       "    <tr style=\"text-align: right;\">\n",
       "      <th></th>\n",
       "      <th>id_hotel</th>\n",
       "      <th>count</th>\n",
       "      <th>mean</th>\n",
       "      <th>bayesian_avg</th>\n",
       "      <th>hotel_name</th>\n",
       "    </tr>\n",
       "  </thead>\n",
       "  <tbody>\n",
       "    <tr>\n",
       "      <td>225792</td>\n",
       "      <td>883</td>\n",
       "      <td>600</td>\n",
       "      <td>9.489333</td>\n",
       "      <td>9.179563</td>\n",
       "      <td>intercontinental london o2</td>\n",
       "    </tr>\n",
       "    <tr>\n",
       "      <td>177357</td>\n",
       "      <td>641</td>\n",
       "      <td>301</td>\n",
       "      <td>9.718937</td>\n",
       "      <td>9.137752</td>\n",
       "      <td>hotel casa camper</td>\n",
       "    </tr>\n",
       "    <tr>\n",
       "      <td>8099</td>\n",
       "      <td>39</td>\n",
       "      <td>600</td>\n",
       "      <td>9.390500</td>\n",
       "      <td>9.110714</td>\n",
       "      <td>amba hotel charing cross</td>\n",
       "    </tr>\n",
       "    <tr>\n",
       "      <td>63219</td>\n",
       "      <td>226</td>\n",
       "      <td>437</td>\n",
       "      <td>9.476888</td>\n",
       "      <td>9.099467</td>\n",
       "      <td>catalonia square 4 sup</td>\n",
       "    </tr>\n",
       "    <tr>\n",
       "      <td>298731</td>\n",
       "      <td>1186</td>\n",
       "      <td>600</td>\n",
       "      <td>9.369667</td>\n",
       "      <td>9.096201</td>\n",
       "      <td>olivia plaza hotel</td>\n",
       "    </tr>\n",
       "    <tr>\n",
       "      <td>349449</td>\n",
       "      <td>1341</td>\n",
       "      <td>600</td>\n",
       "      <td>9.368000</td>\n",
       "      <td>9.095040</td>\n",
       "      <td>shangri la hotel shard london</td>\n",
       "    </tr>\n",
       "    <tr>\n",
       "      <td>298221</td>\n",
       "      <td>1185</td>\n",
       "      <td>510</td>\n",
       "      <td>9.410392</td>\n",
       "      <td>9.091220</td>\n",
       "      <td>olivia balmes hotel</td>\n",
       "    </tr>\n",
       "    <tr>\n",
       "      <td>335921</td>\n",
       "      <td>1302</td>\n",
       "      <td>521</td>\n",
       "      <td>9.395969</td>\n",
       "      <td>9.086102</td>\n",
       "      <td>room mate giulia</td>\n",
       "    </tr>\n",
       "    <tr>\n",
       "      <td>174343</td>\n",
       "      <td>628</td>\n",
       "      <td>600</td>\n",
       "      <td>9.354500</td>\n",
       "      <td>9.085635</td>\n",
       "      <td>hotel berna</td>\n",
       "    </tr>\n",
       "    <tr>\n",
       "      <td>9299</td>\n",
       "      <td>41</td>\n",
       "      <td>551</td>\n",
       "      <td>9.364973</td>\n",
       "      <td>9.076521</td>\n",
       "      <td>ambassade hotel</td>\n",
       "    </tr>\n",
       "  </tbody>\n",
       "</table>\n",
       "</div>"
      ],
      "text/plain": [
       "        id_hotel  count      mean  bayesian_avg                     hotel_name\n",
       "225792       883    600  9.489333      9.179563     intercontinental london o2\n",
       "177357       641    301  9.718937      9.137752              hotel casa camper\n",
       "8099          39    600  9.390500      9.110714       amba hotel charing cross\n",
       "63219        226    437  9.476888      9.099467         catalonia square 4 sup\n",
       "298731      1186    600  9.369667      9.096201             olivia plaza hotel\n",
       "349449      1341    600  9.368000      9.095040  shangri la hotel shard london\n",
       "298221      1185    510  9.410392      9.091220            olivia balmes hotel\n",
       "335921      1302    521  9.395969      9.086102               room mate giulia\n",
       "174343       628    600  9.354500      9.085635                    hotel berna\n",
       "9299          41    551  9.364973      9.076521                ambassade hotel"
      ]
     },
     "execution_count": 26,
     "metadata": {},
     "output_type": "execute_result"
    }
   ],
   "source": [
    "hotel_stats.sort_values('bayesian_avg', ascending=False).head(10)"
   ]
  },
  {
   "cell_type": "markdown",
   "metadata": {},
   "source": [
    "### Which hotels have the lowest Bayesian average rating?"
   ]
  },
  {
   "cell_type": "code",
   "execution_count": 27,
   "metadata": {},
   "outputs": [
    {
     "data": {
      "text/html": [
       "<div>\n",
       "<style scoped>\n",
       "    .dataframe tbody tr th:only-of-type {\n",
       "        vertical-align: middle;\n",
       "    }\n",
       "\n",
       "    .dataframe tbody tr th {\n",
       "        vertical-align: top;\n",
       "    }\n",
       "\n",
       "    .dataframe thead th {\n",
       "        text-align: right;\n",
       "    }\n",
       "</style>\n",
       "<table border=\"1\" class=\"dataframe\">\n",
       "  <thead>\n",
       "    <tr style=\"text-align: right;\">\n",
       "      <th></th>\n",
       "      <th>id_hotel</th>\n",
       "      <th>count</th>\n",
       "      <th>mean</th>\n",
       "      <th>bayesian_avg</th>\n",
       "      <th>hotel_name</th>\n",
       "    </tr>\n",
       "  </thead>\n",
       "  <tbody>\n",
       "    <tr>\n",
       "      <td>177883</td>\n",
       "      <td>643</td>\n",
       "      <td>600</td>\n",
       "      <td>6.446333</td>\n",
       "      <td>7.059746</td>\n",
       "      <td>hotel cavendish</td>\n",
       "    </tr>\n",
       "    <tr>\n",
       "      <td>76017</td>\n",
       "      <td>262</td>\n",
       "      <td>600</td>\n",
       "      <td>6.579667</td>\n",
       "      <td>7.152629</td>\n",
       "      <td>commodore hotel</td>\n",
       "    </tr>\n",
       "    <tr>\n",
       "      <td>111612</td>\n",
       "      <td>378</td>\n",
       "      <td>600</td>\n",
       "      <td>6.684667</td>\n",
       "      <td>7.225774</td>\n",
       "      <td>gainsborough hotel</td>\n",
       "    </tr>\n",
       "    <tr>\n",
       "      <td>52154</td>\n",
       "      <td>188</td>\n",
       "      <td>600</td>\n",
       "      <td>6.694167</td>\n",
       "      <td>7.232392</td>\n",
       "      <td>bloomsbury palace hotel</td>\n",
       "    </tr>\n",
       "    <tr>\n",
       "      <td>144613</td>\n",
       "      <td>534</td>\n",
       "      <td>463</td>\n",
       "      <td>6.566955</td>\n",
       "      <td>7.252878</td>\n",
       "      <td>hallmark hotel london chigwell prince regent</td>\n",
       "    </tr>\n",
       "  </tbody>\n",
       "</table>\n",
       "</div>"
      ],
      "text/plain": [
       "        id_hotel  count      mean  bayesian_avg  \\\n",
       "177883       643    600  6.446333      7.059746   \n",
       "76017        262    600  6.579667      7.152629   \n",
       "111612       378    600  6.684667      7.225774   \n",
       "52154        188    600  6.694167      7.232392   \n",
       "144613       534    463  6.566955      7.252878   \n",
       "\n",
       "                                          hotel_name  \n",
       "177883                               hotel cavendish  \n",
       "76017                                commodore hotel  \n",
       "111612                            gainsborough hotel  \n",
       "52154                        bloomsbury palace hotel  \n",
       "144613  hallmark hotel london chigwell prince regent  "
      ]
     },
     "execution_count": 27,
     "metadata": {},
     "output_type": "execute_result"
    }
   ],
   "source": [
    "hotel_stats.sort_values('bayesian_avg', ascending=True).head()"
   ]
  },
  {
   "cell_type": "markdown",
   "metadata": {},
   "source": [
    "### Transforming the Data\n",
    "\n",
    "- Need to transform data into reviewer-item matrix for collaborative filtering \n",
    "- [scipy.sparse_matrix](https://docs.scipy.org/doc/scipy/reference/sparse.html): columns are hotels and rows are reviewers\n",
    "- Each cell is populated with a reviewer's rating towards a hotel\n",
    "- Empty cell = no rating available"
   ]
  },
  {
   "cell_type": "code",
   "execution_count": 28,
   "metadata": {},
   "outputs": [
    {
     "data": {
      "text/plain": [
       "Index(['hotel_name', 'average_score', 'reviewer_score', 'id_hotel',\n",
       "       'id_reviewer'],\n",
       "      dtype='object')"
      ]
     },
     "execution_count": 28,
     "metadata": {},
     "output_type": "execute_result"
    }
   ],
   "source": [
    "df.columns"
   ]
  },
  {
   "cell_type": "code",
   "execution_count": 29,
   "metadata": {},
   "outputs": [],
   "source": [
    "from scipy.sparse import csr_matrix\n",
    "\n",
    "def create_X(df):\n",
    "\n",
    "    N = df['id_reviewer'].nunique()\n",
    "    M = df['id_hotel'].nunique()\n",
    "\n",
    "    reviewer_mapper = dict(zip(np.unique(df[\"id_reviewer\"]), list(range(N))))\n",
    "    hotel_mapper = dict(zip(np.unique(df[\"id_hotel\"]), list(range(M))))\n",
    "    reviewer_inv_mapper = dict(zip(list(range(N)), np.unique(df[\"id_reviewer\"])))\n",
    "    hotel_inv_mapper = dict(zip(list(range(M)), np.unique(df[\"id_hotel\"])))\n",
    "    \n",
    "    reviewer_index = [reviewer_mapper[i] for i in df['id_reviewer']]\n",
    "    hotel_index = [hotel_mapper[i] for i in df['id_hotel']]\n",
    "\n",
    "    X = csr_matrix((df[\"reviewer_score\"], (hotel_index, reviewer_index)), shape=(M, N))\n",
    "    \n",
    "    return X, reviewer_mapper, hotel_mapper, reviewer_inv_mapper, hotel_inv_mapper"
   ]
  },
  {
   "cell_type": "code",
   "execution_count": 30,
   "metadata": {},
   "outputs": [],
   "source": [
    "X, reviewer_mapper, hotel_mapper, reviewer_inv_mapper, hotel_inv_mapper =create_X(df)"
   ]
  },
  {
   "cell_type": "markdown",
   "metadata": {},
   "source": [
    "### Calculating Sparsity of the Matrix\n",
    "\n",
    "Matrices that contain mostly zero values are called `sparse`, distinct from matrices where most of the values are non-zero, called dense.\n",
    "\n",
    "> Large sparse matrices are common in general and especially in applied machine learning, such as in data that contains counts, data encodings that map categories to counts, and even in whole subfields of machine learning such as natural language processing.\n",
    "\n",
    "Let's see how sparse our matrix, $X$, is. We can calculate matrix density, $d$, with the following equation:\n",
    "\n",
    "$d=\\frac{\\text{# non-zero elements}}{\\text{total # elements}}$"
   ]
  },
  {
   "cell_type": "code",
   "execution_count": 31,
   "metadata": {},
   "outputs": [
    {
     "name": "stdout",
     "output_type": "stream",
     "text": [
      "Matrix density: 43.55%\n"
     ]
    }
   ],
   "source": [
    "density = X.count_nonzero()/(X.shape[0]*X.shape[1])\n",
    "\n",
    "print(f\"Matrix density: {round(density*100,2)}%\")"
   ]
  },
  {
   "cell_type": "markdown",
   "metadata": {},
   "source": [
    "### Finding similar hotels using k-Nearest Neighbours\n",
    "\n",
    "k-Nearest Neighbours (kNN) is a classification algorithm that predicts the label of a given sample based on majority vote of its nearest $k$ neighbours.\n",
    "\n",
    "Distance between two samples can be measured using `cosine similarity`, `Euclidean distance`, `Manhattan distance`, etc. "
   ]
  },
  {
   "cell_type": "markdown",
   "metadata": {},
   "source": [
    "### Cosine Similarity vs. Euclidean Distance\n",
    "\n",
    "- **Cosine Similarity**: measures similarity of two points in orientation (i.e., the cosine angle between $A$ and $B$)\n",
    "    - the closer the cosine similarity is to 1, the more similar the items are\n",
    "\n",
    "$$\\text{similairity}=\\frac{A \\cdot B}{\\mid{A}\\mid\\mid{B}\\mid}$$\n",
    "\n",
    "- **Euclidean Distance**: measures distance between two items in a n-dimensional space (i.e., measures straight line from $A$ to $B$)\n",
    "    - unlike cosine similarity, Euclidean distance takes magnitude into account\n",
    "\n",
    "$$d(p,q) = \\sqrt{(p_1-q_1)^2 + (p_2-q_2)^2 + ... + (p_n-q_n)^2}$$"
   ]
  },
  {
   "cell_type": "code",
   "execution_count": 32,
   "metadata": {},
   "outputs": [],
   "source": [
    "# Let's create a function that finds similar hotels for a given hotel.\n",
    "\n",
    "def find_similar_hotels(hotel_id, X, k, metric='cosine', show_distance=False):\n",
    "    neighbour_ids = []\n",
    "    \n",
    "    hotel_ind = hotel_mapper[hotel_id]\n",
    "    hotel_vec = X[hotel_ind]\n",
    "    k+=1\n",
    "    kNN = NearestNeighbors(n_neighbors=k, algorithm=\"brute\", metric=metric)\n",
    "    kNN.fit(X)\n",
    "    if isinstance(hotel_vec, (np.ndarray)):\n",
    "        hotel_vec = hotel_vec.reshape(1,-1)\n",
    "    neighbour = kNN.kneighbors(hotel_vec, return_distance=show_distance)\n",
    "    for i in range(0,k):\n",
    "        n = neighbour.item(i)\n",
    "        neighbour_ids.append(hotel_inv_mapper[n])\n",
    "    neighbour_ids.pop(0)\n",
    "    return neighbour_ids"
   ]
  },
  {
   "cell_type": "markdown",
   "metadata": {},
   "source": [
    "We can test out our function by passing in a `hotel_id`. We'll create a dictionary that maps `hotel_id` to hotel name so that we can better interpret our results."
   ]
  },
  {
   "cell_type": "code",
   "execution_count": 33,
   "metadata": {},
   "outputs": [
    {
     "name": "stdout",
     "output_type": "stream",
     "text": [
      "Because you stayed at 1k hotel...\n",
      "doubletree hilton hotel london tower london\n",
      "best western premier hotel couture\n",
      "park plaza county hall london\n",
      "doubletree hilton london greenwich\n",
      "grange st paul hotel\n",
      "swiss tel amsterdam\n",
      "doubletree hilton london islington\n",
      "pullman paris tour eiffel\n",
      "doubletree hilton london ealing\n",
      "nadler victoria\n"
     ]
    }
   ],
   "source": [
    "hotel_names = dict(zip(df['id_hotel'], df['hotel_name']))\n",
    "\n",
    "hotel_id = 1\n",
    "\n",
    "similar_ids = find_similar_hotels(hotel_id, X, k=10)\n",
    "hotel_name = hotel_names[hotel_id]\n",
    "\n",
    "print(f\"Because you stayed at {hotel_name}...\")\n",
    "for i in similar_ids:\n",
    "    print(hotel_names[i])"
   ]
  },
  {
   "cell_type": "markdown",
   "metadata": {},
   "source": [
    "**Let's repeat the process but this time using Euclidean distance**"
   ]
  },
  {
   "cell_type": "code",
   "execution_count": 34,
   "metadata": {},
   "outputs": [
    {
     "name": "stdout",
     "output_type": "stream",
     "text": [
      "Because you stayed at k...\n",
      "ibis styles milano palmanova\n",
      "ibis styles paris gare saint lazare\n",
      "hotel gallitzinberg\n",
      "mercure paris porte orleans\n",
      "hotel silver\n",
      "kube hotel ice bar\n",
      "ac hotel irla marriott lifestyle hotel\n",
      "hotel wagner\n",
      "hilton garden inn vienna south\n",
      "boundary rooms suites\n"
     ]
    }
   ],
   "source": [
    "hotel_names = dict(zip(df['id_hotel'], df['hotel_name']))\n",
    "\n",
    "hotel_id = 1\n",
    "similar_ids = find_similar_hotels(hotel_id, X, k=10, metric=\"euclidean\")\n",
    "\n",
    "hotel_name = hotel_name[hotel_id]\n",
    "print(f\"Because you stayed at {hotel_name}...\")\n",
    "for i in similar_ids:\n",
    "    print(hotel_names[i])"
   ]
  },
  {
   "cell_type": "markdown",
   "metadata": {},
   "source": [
    "## Dimensionality Reduction with Matrix Factorization"
   ]
  },
  {
   "cell_type": "markdown",
   "metadata": {},
   "source": [
    "### Matrix Factorization\n",
    "\n",
    "- A linear algebra technique that can help discover latent features between reviewers and hotels\n",
    "- Latent features give a more compact representation of reviewer tastes and hotel descriptions\n",
    "- Can enhance the quality of recommendations when $X$ is very sparse \n",
    "- Factorizes the reviewer-hotel matrix into two \"factor matrices\":\n",
    "    - reviewer-factor matrix `(n_reviewers, k)`\n",
    "    - hotel-factor matrix `(k, n_items)`"
   ]
  },
  {
   "cell_type": "markdown",
   "metadata": {},
   "source": [
    "### Singular Value Decomposition \n",
    "\n",
    "- Singular Value Decomposition (SVD) is a type of matrix factorization that is used for data reduction and de-noising \n",
    "- [scikit-learn](https://scikit-learn.org/stable/modules/generated/sklearn.decomposition.TruncatedSVD.html) has a class called `TruncatedSVD` that we can use to reduce our matrix from `(n_reviewer, n_hotel)` to `(n_reviewer, n_components)` where `n_components` represents number of latent features. "
   ]
  },
  {
   "cell_type": "code",
   "execution_count": 35,
   "metadata": {},
   "outputs": [
    {
     "name": "stdout",
     "output_type": "stream",
     "text": [
      "The shape of our compressed Z matrix is: (600, 25).\n"
     ]
    }
   ],
   "source": [
    "from sklearn.decomposition import TruncatedSVD\n",
    "\n",
    "svd = TruncatedSVD(n_components=25, n_iter=10)\n",
    "Z = svd.fit_transform(X.T)\n",
    "print(f\"The shape of our compressed Z matrix is: {Z.shape}.\")"
   ]
  },
  {
   "cell_type": "markdown",
   "metadata": {},
   "source": [
    "**Let's apply our `find_similar_hotels` function to our new Z matrix.**"
   ]
  },
  {
   "cell_type": "code",
   "execution_count": 36,
   "metadata": {},
   "outputs": [
    {
     "name": "stdout",
     "output_type": "stream",
     "text": [
      "Because you stayed at 1k hotel:\n",
      "25hours hotel beim museumsquartier\n",
      "abbey court notting hill\n",
      "acta atrium palace\n",
      "ac hotel irla marriott lifestyle hotel\n",
      "abba sants\n",
      "academy\n",
      "acca palace\n",
      "ac hotel paris porte maillot marriott\n",
      "ac hotel diagonal l illa marriott lifestyle hotel\n",
      "ac hotel sants marriott lifestyle hotel\n"
     ]
    }
   ],
   "source": [
    "hotel_id = 1\n",
    "similar_hotels = find_similar_hotels(hotel_id, X=Z.T, metric='cosine', k=10)\n",
    "hotel_name = hotel_names[hotel_id]\n",
    "\n",
    "print(f\"Because you stayed at {hotel_name}:\")\n",
    "for i in similar_hotels:\n",
    "    print(hotel_names[i])"
   ]
  },
  {
   "cell_type": "markdown",
   "metadata": {},
   "source": [
    "### Top N Recommender\n",
    "\n",
    "- Matrix factorization allows us to predict missing ratings in our original $X$ matrix\n",
    "- Reconstruct matrix by getting inner product of the reviewer-factor matrix and hotels-factor matrix"
   ]
  },
  {
   "cell_type": "code",
   "execution_count": 37,
   "metadata": {},
   "outputs": [
    {
     "data": {
      "text/plain": [
       "Index(['hotel_name', 'average_score', 'reviewer_score', 'id_hotel',\n",
       "       'id_reviewer'],\n",
       "      dtype='object')"
      ]
     },
     "execution_count": 37,
     "metadata": {},
     "output_type": "execute_result"
    }
   ],
   "source": [
    "df.columns"
   ]
  },
  {
   "cell_type": "code",
   "execution_count": 38,
   "metadata": {},
   "outputs": [
    {
     "name": "stdout",
     "output_type": "stream",
     "text": [
      "Dimensions of original reviewer-hotel matrix: (1492, 600), <class 'scipy.sparse.csr.csr_matrix'>\n",
      "Dimensions of SVD-reconstructed X matrix: (1492, 600), <class 'numpy.ndarray'>\n"
     ]
    }
   ],
   "source": [
    "new_X = svd.inverse_transform(Z).T\n",
    "\n",
    "print(f\"Dimensions of original reviewer-hotel matrix: {X.shape}, {type(X)}\")\n",
    "print(f\"Dimensions of SVD-reconstructed X matrix: {new_X.shape}, {type(new_X)}\")"
   ]
  },
  {
   "cell_type": "markdown",
   "metadata": {},
   "source": [
    "**Let's try generaing top N recommendations for a reviewer in our dataset. We'll look at `userId` 133. Which hotels did this reviewer rate highly?**"
   ]
  },
  {
   "cell_type": "code",
   "execution_count": 39,
   "metadata": {},
   "outputs": [],
   "source": [
    "idreviewer = 133\n",
    "reviewer_preferences = df[(df['id_reviewer']==idreviewer)&(df['reviewer_score']>=4)]\n",
    "reviewer_preferences = reviewer_preferences.merge(df[['id_hotel', 'hotel_name']])"
   ]
  },
  {
   "cell_type": "code",
   "execution_count": 40,
   "metadata": {},
   "outputs": [],
   "source": [
    "reviewer_preferences = reviewer_preferences.drop_duplicates()"
   ]
  },
  {
   "cell_type": "code",
   "execution_count": 41,
   "metadata": {},
   "outputs": [
    {
     "data": {
      "text/html": [
       "<div>\n",
       "<style scoped>\n",
       "    .dataframe tbody tr th:only-of-type {\n",
       "        vertical-align: middle;\n",
       "    }\n",
       "\n",
       "    .dataframe tbody tr th {\n",
       "        vertical-align: top;\n",
       "    }\n",
       "\n",
       "    .dataframe thead th {\n",
       "        text-align: right;\n",
       "    }\n",
       "</style>\n",
       "<table border=\"1\" class=\"dataframe\">\n",
       "  <thead>\n",
       "    <tr style=\"text-align: right;\">\n",
       "      <th></th>\n",
       "      <th>hotel_name</th>\n",
       "      <th>average_score</th>\n",
       "      <th>reviewer_score</th>\n",
       "      <th>id_hotel</th>\n",
       "      <th>id_reviewer</th>\n",
       "    </tr>\n",
       "  </thead>\n",
       "  <tbody>\n",
       "    <tr>\n",
       "      <td>132220</td>\n",
       "      <td>hotel indigo london tower hill</td>\n",
       "      <td>9.2</td>\n",
       "      <td>10.0</td>\n",
       "      <td>700</td>\n",
       "      <td>133</td>\n",
       "    </tr>\n",
       "    <tr>\n",
       "      <td>227814</td>\n",
       "      <td>rembrandt</td>\n",
       "      <td>8.5</td>\n",
       "      <td>10.0</td>\n",
       "      <td>1280</td>\n",
       "      <td>133</td>\n",
       "    </tr>\n",
       "    <tr>\n",
       "      <td>100297</td>\n",
       "      <td>h10 urquinaona plaza</td>\n",
       "      <td>9.1</td>\n",
       "      <td>10.0</td>\n",
       "      <td>533</td>\n",
       "      <td>133</td>\n",
       "    </tr>\n",
       "    <tr>\n",
       "      <td>98594</td>\n",
       "      <td>h10 art gallery 4 sup</td>\n",
       "      <td>8.8</td>\n",
       "      <td>10.0</td>\n",
       "      <td>523</td>\n",
       "      <td>133</td>\n",
       "    </tr>\n",
       "    <tr>\n",
       "      <td>200856</td>\n",
       "      <td>olivia balmes hotel</td>\n",
       "      <td>9.3</td>\n",
       "      <td>10.0</td>\n",
       "      <td>1185</td>\n",
       "      <td>133</td>\n",
       "    </tr>\n",
       "  </tbody>\n",
       "</table>\n",
       "</div>"
      ],
      "text/plain": [
       "                            hotel_name  average_score  reviewer_score  \\\n",
       "132220  hotel indigo london tower hill            9.2            10.0   \n",
       "227814                       rembrandt            8.5            10.0   \n",
       "100297            h10 urquinaona plaza            9.1            10.0   \n",
       "98594            h10 art gallery 4 sup            8.8            10.0   \n",
       "200856             olivia balmes hotel            9.3            10.0   \n",
       "\n",
       "        id_hotel  id_reviewer  \n",
       "132220       700          133  \n",
       "227814      1280          133  \n",
       "100297       533          133  \n",
       "98594        523          133  \n",
       "200856      1185          133  "
      ]
     },
     "execution_count": 41,
     "metadata": {},
     "output_type": "execute_result"
    }
   ],
   "source": [
    "reviewer_preferences.sort_values('reviewer_score', ascending=False).head(5)"
   ]
  },
  {
   "cell_type": "markdown",
   "metadata": {},
   "source": [
    "<p style=\"margin-bottom:30;\">Now, let's predict which hotels userId 133 will also like based on their previous ratings. We need to do the following:</p>\n",
    "\n",
    "- get row from $X$ which represents userId=133\n",
    "- sort their predicted ratings in descending order\n",
    "\n",
    "We can use `np.argsort()` to grab top $N$ indices for `userId=133`."
   ]
  },
  {
   "cell_type": "code",
   "execution_count": 42,
   "metadata": {},
   "outputs": [
    {
     "name": "stdout",
     "output_type": "stream",
     "text": [
      "Top 10 Recommendations for Reviewer 133:\n",
      "home paris\n",
      "h tel bourgogne montana mh\n",
      "eurostars ramblas\n",
      "best western boltons hotel london kensington\n",
      "albus hotel amsterdam city centre\n",
      "grand pigalle hotel\n",
      "hotel 1898\n",
      "gran hotel barcino\n",
      "haymarket hotel\n",
      "h tel monna lisa champs elys es\n"
     ]
    }
   ],
   "source": [
    "top_N = 10\n",
    "\n",
    "hotel_names = dict(zip(df['id_hotel'], df['hotel_name']))\n",
    "\n",
    "top_N_indices = new_X[reviewer_mapper[idreviewer]].argsort()[-top_N:][::-1]\n",
    "\n",
    "print(f\"Top {top_N} Recommendations for Reviewer {idreviewer}:\")\n",
    "for i in top_N_indices:\n",
    "    hotel_id = hotel_inv_mapper[i]\n",
    "    print(hotel_names[hotel_id])"
   ]
  }
 ],
 "metadata": {
  "kernelspec": {
   "display_name": "Python 3",
   "language": "python",
   "name": "python3"
  },
  "language_info": {
   "codemirror_mode": {
    "name": "ipython",
    "version": 3
   },
   "file_extension": ".py",
   "mimetype": "text/x-python",
   "name": "python",
   "nbconvert_exporter": "python",
   "pygments_lexer": "ipython3",
   "version": "3.7.4"
  }
 },
 "nbformat": 4,
 "nbformat_minor": 2
}
